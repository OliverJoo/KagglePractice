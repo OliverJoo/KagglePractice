{
 "metadata": {
  "kernelspec": {
   "language": "python",
   "display_name": "Python 3",
   "name": "python3"
  },
  "language_info": {
   "name": "python",
   "version": "3.7.12",
   "mimetype": "text/x-python",
   "codemirror_mode": {
    "name": "ipython",
    "version": 3
   },
   "pygments_lexer": "ipython3",
   "nbconvert_exporter": "python",
   "file_extension": ".py"
  }
 },
 "nbformat_minor": 4,
 "nbformat": 4,
 "cells": [
  {
   "cell_type": "code",
   "source": [
    "# This Python 3 environment comes with many helpful analytics libraries installed\n",
    "# It is defined by the kaggle/python Docker image: https://github.com/kaggle/docker-python\n",
    "# For example, here's several helpful packages to load\n",
    "\n",
    "import numpy as np # linear algebra\n",
    "import pandas as pd # data processing, CSV file I/O (e.g. pd.read_csv)\n",
    "\n",
    "# Input data files are available in the read-only \"../input/\" directory\n",
    "# For example, running this (by clicking run or pressing Shift+Enter) will list all files under the input directory\n",
    "\n",
    "import os\n",
    "for dirname, _, filenames in os.walk('/kaggle/input'):\n",
    "    for filename in filenames:\n",
    "        print(os.path.join(dirname, filename))\n",
    "\n",
    "# You can write up to 20GB to the current directory (/kaggle/working/) that gets preserved as output when you create a version using \"Save & Run All\" \n",
    "# You can also write temporary files to /kaggle/temp/, but they won't be saved outside of the current session"
   ],
   "metadata": {
    "_uuid": "8f2839f25d086af736a60e9eeb907d3b93b6e0e5",
    "_cell_guid": "b1076dfc-b9ad-4769-8c92-a6c4dae69d19",
    "trusted": true,
    "pycharm": {
     "name": "#%%\n"
    }
   },
   "execution_count": null,
   "outputs": []
  },
  {
   "cell_type": "markdown",
   "source": [
    "# Check the description and total Null count of the Titanic DataFrame"
   ],
   "metadata": {
    "pycharm": {
     "name": "#%% md\n"
    }
   }
  },
  {
   "cell_type": "code",
   "source": [
    "import numpy as np\n",
    "import pandas\n",
    "import pandas as pd\n",
    "import matplotlib.pyplot as plt\n",
    "import seaborn as sns\n",
    "\n",
    "titanic_df = pd.read_csv('./Data/train.csv')\n",
    "\n",
    "# titanic_df.describe()\n",
    "titanic_df.isna().sum()"
   ],
   "metadata": {
    "execution": {
     "iopub.status.busy": "2023-02-15T10:03:30.417171Z",
     "iopub.execute_input": "2023-02-15T10:03:30.417705Z",
     "iopub.status.idle": "2023-02-15T10:03:30.439340Z",
     "shell.execute_reply.started": "2023-02-15T10:03:30.417657Z",
     "shell.execute_reply": "2023-02-15T10:03:30.437904Z"
    },
    "trusted": true,
    "pycharm": {
     "name": "#%%\n"
    }
   },
   "execution_count": 2,
   "outputs": [
    {
     "data": {
      "text/plain": "PassengerId      0\nSurvived         0\nPclass           0\nName             0\nSex              0\nAge            177\nSibSp            0\nParch            0\nTicket           0\nFare             0\nCabin          687\nEmbarked         2\ndtype: int64"
     },
     "execution_count": 2,
     "metadata": {},
     "output_type": "execute_result"
    }
   ]
  },
  {
   "cell_type": "markdown",
   "source": [
    "# Filling the Null columns by characteristics"
   ],
   "metadata": {
    "pycharm": {
     "name": "#%% md\n"
    }
   }
  },
  {
   "cell_type": "code",
   "source": [
    "def prepare_df_chk(df: pandas.DataFrame):\n",
    "    df['Age'].fillna(df['Age'].mean(), inplace=True)\n",
    "    df['Cabin'].fillna('N', inplace=True)\n",
    "    df['Embarked'].fillna('N', inplace=True)\n",
    "    df['Cabin'] = df['Cabin'].str[:1]\n",
    "    return df\n",
    "\n",
    "\n",
    "titanic_df = prepare_df_chk(titanic_df)\n",
    "# test_titanic_df = prepare_df(test_titanic_df)\n",
    "\n",
    "# sns.barplot(x='Sex', y='Survived', data=titanic_df)\n",
    "# sns.barplot(x='Pclass', y='Survived', hue='Sex', data=titanic_df)\n",
    "titanic_df.head()"
   ],
   "metadata": {
    "execution": {
     "iopub.status.busy": "2023-02-15T10:00:30.712445Z",
     "iopub.execute_input": "2023-02-15T10:00:30.712871Z",
     "iopub.status.idle": "2023-02-15T10:00:30.739395Z",
     "shell.execute_reply.started": "2023-02-15T10:00:30.712834Z",
     "shell.execute_reply": "2023-02-15T10:00:30.738365Z"
    },
    "trusted": true,
    "pycharm": {
     "name": "#%%\n"
    }
   },
   "execution_count": 3,
   "outputs": [
    {
     "data": {
      "text/plain": "   PassengerId  Survived  Pclass  \\\n0            1         0       3   \n1            2         1       1   \n2            3         1       3   \n3            4         1       1   \n4            5         0       3   \n\n                                                Name     Sex   Age  SibSp  \\\n0                            Braund, Mr. Owen Harris    male  22.0      1   \n1  Cumings, Mrs. John Bradley (Florence Briggs Th...  female  38.0      1   \n2                             Heikkinen, Miss. Laina  female  26.0      0   \n3       Futrelle, Mrs. Jacques Heath (Lily May Peel)  female  35.0      1   \n4                           Allen, Mr. William Henry    male  35.0      0   \n\n   Parch            Ticket     Fare Cabin Embarked  \n0      0         A/5 21171   7.2500     N        S  \n1      0          PC 17599  71.2833     C        C  \n2      0  STON/O2. 3101282   7.9250     N        S  \n3      0            113803  53.1000     C        S  \n4      0            373450   8.0500     N        S  ",
      "text/html": "<div>\n<style scoped>\n    .dataframe tbody tr th:only-of-type {\n        vertical-align: middle;\n    }\n\n    .dataframe tbody tr th {\n        vertical-align: top;\n    }\n\n    .dataframe thead th {\n        text-align: right;\n    }\n</style>\n<table border=\"1\" class=\"dataframe\">\n  <thead>\n    <tr style=\"text-align: right;\">\n      <th></th>\n      <th>PassengerId</th>\n      <th>Survived</th>\n      <th>Pclass</th>\n      <th>Name</th>\n      <th>Sex</th>\n      <th>Age</th>\n      <th>SibSp</th>\n      <th>Parch</th>\n      <th>Ticket</th>\n      <th>Fare</th>\n      <th>Cabin</th>\n      <th>Embarked</th>\n    </tr>\n  </thead>\n  <tbody>\n    <tr>\n      <th>0</th>\n      <td>1</td>\n      <td>0</td>\n      <td>3</td>\n      <td>Braund, Mr. Owen Harris</td>\n      <td>male</td>\n      <td>22.0</td>\n      <td>1</td>\n      <td>0</td>\n      <td>A/5 21171</td>\n      <td>7.2500</td>\n      <td>N</td>\n      <td>S</td>\n    </tr>\n    <tr>\n      <th>1</th>\n      <td>2</td>\n      <td>1</td>\n      <td>1</td>\n      <td>Cumings, Mrs. John Bradley (Florence Briggs Th...</td>\n      <td>female</td>\n      <td>38.0</td>\n      <td>1</td>\n      <td>0</td>\n      <td>PC 17599</td>\n      <td>71.2833</td>\n      <td>C</td>\n      <td>C</td>\n    </tr>\n    <tr>\n      <th>2</th>\n      <td>3</td>\n      <td>1</td>\n      <td>3</td>\n      <td>Heikkinen, Miss. Laina</td>\n      <td>female</td>\n      <td>26.0</td>\n      <td>0</td>\n      <td>0</td>\n      <td>STON/O2. 3101282</td>\n      <td>7.9250</td>\n      <td>N</td>\n      <td>S</td>\n    </tr>\n    <tr>\n      <th>3</th>\n      <td>4</td>\n      <td>1</td>\n      <td>1</td>\n      <td>Futrelle, Mrs. Jacques Heath (Lily May Peel)</td>\n      <td>female</td>\n      <td>35.0</td>\n      <td>1</td>\n      <td>0</td>\n      <td>113803</td>\n      <td>53.1000</td>\n      <td>C</td>\n      <td>S</td>\n    </tr>\n    <tr>\n      <th>4</th>\n      <td>5</td>\n      <td>0</td>\n      <td>3</td>\n      <td>Allen, Mr. William Henry</td>\n      <td>male</td>\n      <td>35.0</td>\n      <td>0</td>\n      <td>0</td>\n      <td>373450</td>\n      <td>8.0500</td>\n      <td>N</td>\n      <td>S</td>\n    </tr>\n  </tbody>\n</table>\n</div>"
     },
     "execution_count": 3,
     "metadata": {},
     "output_type": "execute_result"
    }
   ]
  },
  {
   "cell_type": "markdown",
   "source": [
    "# Categorizing age to check the surviving people by age"
   ],
   "metadata": {
    "pycharm": {
     "name": "#%% md\n"
    }
   }
  },
  {
   "cell_type": "code",
   "source": [
    "# categorization by age\n",
    "def get_category(age):\n",
    "    cat = ''\n",
    "    if age <= -1:\n",
    "        cat = 'Unknown'\n",
    "    elif age <= 5:\n",
    "        cat = 'Baby'\n",
    "    elif age <= 12:\n",
    "        cat = 'Child'\n",
    "    elif age <= 18:\n",
    "        cat = 'Teenager'\n",
    "    elif age <= 60:\n",
    "        cat = 'Adult'\n",
    "    else:\n",
    "        cat = 'Elderly'\n",
    "\n",
    "    return cat\n",
    "\n",
    "# X-axos ordering\n",
    "group_names = ['Unknown', 'Baby', 'Child', 'Teenager', 'Adult', 'Elderly']\n",
    "\n",
    "titanic_df['Age_cat'] = titanic_df['Age'].apply(lambda x: get_category(x))\n",
    "sns.barplot(x='Age_cat', y='Survived', hue='Sex', data=titanic_df, order=group_names)"
   ],
   "metadata": {
    "execution": {
     "iopub.status.busy": "2023-02-15T10:00:32.601804Z",
     "iopub.execute_input": "2023-02-15T10:00:32.602215Z",
     "iopub.status.idle": "2023-02-15T10:00:33.148319Z",
     "shell.execute_reply.started": "2023-02-15T10:00:32.602181Z",
     "shell.execute_reply": "2023-02-15T10:00:33.147406Z"
    },
    "trusted": true,
    "pycharm": {
     "name": "#%%\n"
    }
   },
   "execution_count": 4,
   "outputs": [
    {
     "data": {
      "text/plain": "<matplotlib.axes._subplots.AxesSubplot at 0x1828e1462e0>"
     },
     "execution_count": 4,
     "metadata": {},
     "output_type": "execute_result"
    },
    {
     "data": {
      "text/plain": "<Figure size 432x288 with 1 Axes>",
      "image/png": "[encoded data removed]"
     },
     "metadata": {},
     "output_type": "display_data"
    }
   ]
  },
  {
   "cell_type": "markdown",
   "source": [
    "#  Preprocessing DataSet that observed above"
   ],
   "metadata": {
    "pycharm": {
     "name": "#%% md\n"
    }
   }
  },
  {
   "cell_type": "code",
   "source": [
    "from sklearn.preprocessing import LabelEncoder\n",
    "\n",
    "\n",
    "# Filling Null Parameters\n",
    "def fillna(df):\n",
    "    df['Age'].fillna(df['Age'].mean(), inplace=True)\n",
    "    df['Cabin'].fillna('N', inplace=True)\n",
    "    df['Embarked'].fillna('N', inplace=True)\n",
    "    df['Fare'].fillna(0, inplace=True)\n",
    "    return df\n",
    "\n",
    "\n",
    "# remove non-meaningful columns\n",
    "def drop_features(df):\n",
    "    df.drop(['PassengerId', 'Name', 'Ticket'], axis=1, inplace=True)\n",
    "    return df\n",
    "\n",
    "\n",
    "# Label Encoding\n",
    "def format_features(df):\n",
    "    df['Cabin'] = df['Cabin'].str[:1]\n",
    "    features = ['Cabin', 'Sex', 'Embarked']\n",
    "    for feature in features:\n",
    "        le = LabelEncoder()\n",
    "        le = le.fit(df[feature])\n",
    "        df[feature] = le.transform(df[feature])\n",
    "    return df\n",
    "\n",
    "\n",
    "# preprocessing\n",
    "def transform_features(df):\n",
    "    df = fillna(df)\n",
    "    df = drop_features(df)\n",
    "    df = format_features(df)\n",
    "    return df\n",
    "\n",
    "# reloading original dataset to get feature and label dataset separately\n",
    "titanic_df = pd.read_csv('./Data/train.csv')\n",
    "test_titanic_df = pd.read_csv('./Data/test.csv')\n",
    "\n",
    "X_train_df = transform_features(titanic_df)\n",
    "\n",
    "X_test = transform_features(test_titanic_df)\n",
    "X_train = X_train_df.drop('Survived', axis=1)\n",
    "Y_train = X_train_df['Survived']\n",
    "\n",
    "X_test"
   ],
   "metadata": {
    "execution": {
     "iopub.status.busy": "2023-02-15T10:00:34.940946Z",
     "iopub.execute_input": "2023-02-15T10:00:34.942028Z",
     "iopub.status.idle": "2023-02-15T10:00:35.046354Z",
     "shell.execute_reply.started": "2023-02-15T10:00:34.941977Z",
     "shell.execute_reply": "2023-02-15T10:00:35.044987Z"
    },
    "trusted": true,
    "pycharm": {
     "name": "#%%\n"
    }
   },
   "execution_count": 6,
   "outputs": [
    {
     "data": {
      "text/plain": "     Pclass  Sex       Age  SibSp  Parch      Fare  Cabin  Embarked\n0         3    1  34.50000      0      0    7.8292      7         1\n1         3    0  47.00000      1      0    7.0000      7         2\n2         2    1  62.00000      0      0    9.6875      7         1\n3         3    1  27.00000      0      0    8.6625      7         2\n4         3    0  22.00000      1      1   12.2875      7         2\n..      ...  ...       ...    ...    ...       ...    ...       ...\n413       3    1  30.27259      0      0    8.0500      7         2\n414       1    0  39.00000      0      0  108.9000      2         0\n415       3    1  38.50000      0      0    7.2500      7         2\n416       3    1  30.27259      0      0    8.0500      7         2\n417       3    1  30.27259      1      1   22.3583      7         0\n\n[418 rows x 8 columns]",
      "text/html": "<div>\n<style scoped>\n    .dataframe tbody tr th:only-of-type {\n        vertical-align: middle;\n    }\n\n    .dataframe tbody tr th {\n        vertical-align: top;\n    }\n\n    .dataframe thead th {\n        text-align: right;\n    }\n</style>\n<table border=\"1\" class=\"dataframe\">\n  <thead>\n    <tr style=\"text-align: right;\">\n      <th></th>\n      <th>Pclass</th>\n      <th>Sex</th>\n      <th>Age</th>\n      <th>SibSp</th>\n      <th>Parch</th>\n      <th>Fare</th>\n      <th>Cabin</th>\n      <th>Embarked</th>\n    </tr>\n  </thead>\n  <tbody>\n    <tr>\n      <th>0</th>\n      <td>3</td>\n      <td>1</td>\n      <td>34.50000</td>\n      <td>0</td>\n      <td>0</td>\n      <td>7.8292</td>\n      <td>7</td>\n      <td>1</td>\n    </tr>\n    <tr>\n      <th>1</th>\n      <td>3</td>\n      <td>0</td>\n      <td>47.00000</td>\n      <td>1</td>\n      <td>0</td>\n      <td>7.0000</td>\n      <td>7</td>\n      <td>2</td>\n    </tr>\n    <tr>\n      <th>2</th>\n      <td>2</td>\n      <td>1</td>\n      <td>62.00000</td>\n      <td>0</td>\n      <td>0</td>\n      <td>9.6875</td>\n      <td>7</td>\n      <td>1</td>\n    </tr>\n    <tr>\n      <th>3</th>\n      <td>3</td>\n      <td>1</td>\n      <td>27.00000</td>\n      <td>0</td>\n      <td>0</td>\n      <td>8.6625</td>\n      <td>7</td>\n      <td>2</td>\n    </tr>\n    <tr>\n      <th>4</th>\n      <td>3</td>\n      <td>0</td>\n      <td>22.00000</td>\n      <td>1</td>\n      <td>1</td>\n      <td>12.2875</td>\n      <td>7</td>\n      <td>2</td>\n    </tr>\n    <tr>\n      <th>...</th>\n      <td>...</td>\n      <td>...</td>\n      <td>...</td>\n      <td>...</td>\n      <td>...</td>\n      <td>...</td>\n      <td>...</td>\n      <td>...</td>\n    </tr>\n    <tr>\n      <th>413</th>\n      <td>3</td>\n      <td>1</td>\n      <td>30.27259</td>\n      <td>0</td>\n      <td>0</td>\n      <td>8.0500</td>\n      <td>7</td>\n      <td>2</td>\n    </tr>\n    <tr>\n      <th>414</th>\n      <td>1</td>\n      <td>0</td>\n      <td>39.00000</td>\n      <td>0</td>\n      <td>0</td>\n      <td>108.9000</td>\n      <td>2</td>\n      <td>0</td>\n    </tr>\n    <tr>\n      <th>415</th>\n      <td>3</td>\n      <td>1</td>\n      <td>38.50000</td>\n      <td>0</td>\n      <td>0</td>\n      <td>7.2500</td>\n      <td>7</td>\n      <td>2</td>\n    </tr>\n    <tr>\n      <th>416</th>\n      <td>3</td>\n      <td>1</td>\n      <td>30.27259</td>\n      <td>0</td>\n      <td>0</td>\n      <td>8.0500</td>\n      <td>7</td>\n      <td>2</td>\n    </tr>\n    <tr>\n      <th>417</th>\n      <td>3</td>\n      <td>1</td>\n      <td>30.27259</td>\n      <td>1</td>\n      <td>1</td>\n      <td>22.3583</td>\n      <td>7</td>\n      <td>0</td>\n    </tr>\n  </tbody>\n</table>\n<p>418 rows × 8 columns</p>\n</div>"
     },
     "execution_count": 6,
     "metadata": {},
     "output_type": "execute_result"
    }
   ]
  },
  {
   "cell_type": "markdown",
   "source": [
    "# Training DataSet by Decision Tree, Random Forest, Logistic Regression to get the best accuracy"
   ],
   "metadata": {
    "pycharm": {
     "name": "#%% md\n"
    }
   }
  },
  {
   "cell_type": "code",
   "source": [
    "from sklearn.tree import DecisionTreeClassifier\n",
    "from sklearn.ensemble import RandomForestClassifier\n",
    "from sklearn.linear_model import LogisticRegression\n",
    "\n",
    "# create DecisionTree, RandomForest, LogisticRegression Classifier\n",
    "dt_clf = DecisionTreeClassifier(random_state=20)\n",
    "rf_clf = RandomForestClassifier(random_state=20, n_estimators=70)\n",
    "lr_clf = LogisticRegression(solver='liblinear')\n",
    "\n",
    "# DecisionTreeClassifier learn/predict/evaluation\n",
    "dt_clf.fit(X_train, Y_train)\n",
    "dt_pred = dt_clf.predict(X_test)\n",
    "print(f'DecisionTreeClassifier score: {dt_clf.score(X_train, Y_train):.6f}')  # \\n{dt_pred}')\n",
    "\n",
    "# RandomForestClassifier learn/predict/evaluation\n",
    "rf_clf.fit(X_train, Y_train)\n",
    "rf_pred = rf_clf.predict(X_test)\n",
    "print(f'RandomForestClassifier score: {rf_clf.score(X_train, Y_train):.6f}')  # \\n{rf_pred}')\n",
    "\n",
    "# LogisticRegression learn/predict/evaluation\n",
    "lr_clf.fit(X_train, Y_train)\n",
    "lr_pred = lr_clf.predict(X_test)\n",
    "print(f'LogisticRegression score: {lr_clf.score(X_train, Y_train):.6f}')  # \\n{lr_pred}')"
   ],
   "metadata": {
    "execution": {
     "iopub.status.busy": "2023-02-15T10:00:37.568162Z",
     "iopub.execute_input": "2023-02-15T10:00:37.568781Z",
     "iopub.status.idle": "2023-02-15T10:00:38.056773Z",
     "shell.execute_reply.started": "2023-02-15T10:00:37.568723Z",
     "shell.execute_reply": "2023-02-15T10:00:38.055791Z"
    },
    "trusted": true,
    "pycharm": {
     "name": "#%%\n"
    }
   },
   "execution_count": 8,
   "outputs": [
    {
     "name": "stdout",
     "output_type": "stream",
     "text": [
      "DecisionTreeClassifier score: 0.986532\n",
      "RandomForestClassifier score: 0.986532\n",
      "LogisticRegression score: 0.802469\n"
     ]
    }
   ]
  },
  {
   "cell_type": "markdown",
   "source": [
    "# Submit the result of Random Forest Prediction"
   ],
   "metadata": {
    "pycharm": {
     "name": "#%% md\n"
    }
   }
  },
  {
   "cell_type": "code",
   "source": [
    "# submit RandomForestClassifier\n",
    "submission = pd.DataFrame({\"PassengerId\": pd.read_csv('./Data/test.csv')[\"PassengerId\"], \"Survived\": rf_pred})\n",
    "submission.to_csv('submission.csv', index=False)"
   ],
   "metadata": {
    "execution": {
     "iopub.status.busy": "2023-02-15T10:00:42.740886Z",
     "iopub.execute_input": "2023-02-15T10:00:42.741266Z",
     "iopub.status.idle": "2023-02-15T10:00:42.757141Z",
     "shell.execute_reply.started": "2023-02-15T10:00:42.741233Z",
     "shell.execute_reply": "2023-02-15T10:00:42.755349Z"
    },
    "trusted": true,
    "pycharm": {
     "name": "#%%\n"
    }
   },
   "execution_count": 10,
   "outputs": []
  }
 ]
}